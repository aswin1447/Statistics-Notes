{
 "cells": [
  {
   "cell_type": "markdown",
   "metadata": {},
   "source": [
    "# The Likelihood Function"
   ]
  },
  {
   "cell_type": "markdown",
   "metadata": {},
   "source": [
    "The joint density of functions of data, $\\vec{x}$, and parameters, $\\vec{\\theta}$, is given by their product"
   ]
  },
  {
   "cell_type": "markdown",
   "metadata": {},
   "source": [
    "$$\n",
    "f\\left(\\vec{x}; \\vec{\\theta}\\right) = \\prod_{i=1}^{n}\\, f\\left(\\vec{x}_i; \\vec{\\theta}\\right).\n",
    "$$"
   ]
  },
  {
   "cell_type": "markdown",
   "metadata": {},
   "source": [
    "**Notational Aside:**\n",
    "\n",
    "The notation\n",
    "$\n",
    "f\\left(\\vec{x}\\,; \\vec{\\theta}\\right)\n",
    "$\n",
    "is meant to draw attention to the fact that the mulivariable function $f$ consists of both data and parameters, but that they are fundamentally different quantities. The use of \"$;$\" as the deimlinator\n",
    "$$\n",
    "f\\left(\\vec{x}\\,; \\vec{\\theta}\\right)\n",
    "$$\n",
    "is meant to indicate their difference, but not to imply conditional dependance as \"$|$\" does\n",
    "$$\n",
    "f\\left(\\vec{x}\\,\\big|\\, \\vec{\\theta}\\right).\n",
    "$$"
   ]
  },
  {
   "cell_type": "markdown",
   "metadata": {},
   "source": [
    "## Statistical Prediction"
   ]
  },
  {
   "cell_type": "markdown",
   "metadata": {},
   "source": [
    "If the functions are probability density functions (p.d.f.) then if the parameters, $\\vec{\\theta}$, are known, and so fixed, then the probability density to observe the data, $\\vec{x}$, is"
   ]
  },
  {
   "cell_type": "markdown",
   "metadata": {},
   "source": [
    "$$\n",
    "p\\left(\\vec{x}\\right) = p\\left(\\vec{x} \\,\\big|\\, \\vec{\\theta}\\right) = \\prod_{i=1}^{n}\\, f\\left(\\vec{x}_i \\,\\big|\\, \\vec{\\theta}\\right) = \\prod_{i=1}^{n}\\, f\\left(\\vec{x}_i; \\vec{\\theta}\\right).\n",
    "$$"
   ]
  },
  {
   "cell_type": "markdown",
   "metadata": {},
   "source": [
    "As $p\\left(\\vec{x} \\,\\big|\\, \\vec{\\theta}\\right)$ is a probability density function itself, then it is normalizable to unity"
   ]
  },
  {
   "cell_type": "markdown",
   "metadata": {},
   "source": [
    "$$\n",
    "\\int p\\left(\\vec{x}\\right)\\,d\\vec{x} = 1.\n",
    "$$"
   ]
  },
  {
   "cell_type": "markdown",
   "metadata": {},
   "source": [
    "## Statistical Inference"
   ]
  },
  {
   "cell_type": "markdown",
   "metadata": {},
   "source": [
    "If the data, $\\vec{x}$, have already been observed, and so are fixed, then the joint density is called the \"likelihood\". As the data are fixed then the likeilhood is a function of the parameters _**only**_"
   ]
  },
  {
   "cell_type": "markdown",
   "metadata": {},
   "source": [
    "$$\n",
    "L\\left(\\vec{\\theta}\\right) = L\\left(\\vec{\\theta} \\,\\big|\\, \\vec{x}\\right) = \\prod_{i=1}^{n}\\, f\\left(\\vec{\\theta} \\,\\big|\\, \\vec{x}_i\\right) = \\prod_{i=1}^{n}\\, f\\left(\\vec{x}_i; \\vec{\\theta}\\right).\n",
    "$$"
   ]
  },
  {
   "cell_type": "markdown",
   "metadata": {},
   "source": [
    "## Properties of the Likelihood"
   ]
  },
  {
   "cell_type": "markdown",
   "metadata": {},
   "source": [
    "As the likelihood is a function of the parameters only, then it is seen that it is **a function of probability density functions given observed data**. \n",
    "\n",
    "Its values represent the relative compatability (in some sense) of parameter values with the considered model given the observed data. The greater the value of the likelihood for a parameter value the more compatable the model (with that parameter value) is with the data. There is no sense of an absolute scale of a likelihood (given its formation from an arbitrary number of products of p.d.f.s), but rather its scale is the relative scale of its minimum value and maximum value.\n",
    "\n",
    "The likelihood is **not** a probability density. This can most easily be realized by noting that as the likelihood is a function of the parameters only it has no contstraint that it is normalized to unity. Indeed, it is not even required to be normalizable. \\[1\\]"
   ]
  },
  {
   "cell_type": "markdown",
   "metadata": {},
   "source": [
    "$$\n",
    "\\int L\\left(\\vec{\\theta}\\right)\\,d\\vec{\\theta} \\text{ need not be normalizable}.\n",
    "$$"
   ]
  },
  {
   "cell_type": "markdown",
   "metadata": {},
   "source": [
    "### Example: A single sample from the Bernoulli distribution \\[2\\]"
   ]
  },
  {
   "cell_type": "markdown",
   "metadata": {},
   "source": [
    "Given a single observation, $x$, from the Bernoulli distribution, with probability mass function (p.m.f) (which has $x \\in \\{0,1\\}$)"
   ]
  },
  {
   "cell_type": "markdown",
   "metadata": {},
   "source": [
    "$$\n",
    "\\displaystyle f_{\\text{Bernoulli}}\\left(x;\\theta\\right) = \\displaystyle \\theta^{x} \\left(1-\\theta\\right)^{1-x},\n",
    "$$"
   ]
  },
  {
   "cell_type": "markdown",
   "metadata": {},
   "source": [
    "sampling $x=1$ the likelihood is then"
   ]
  },
  {
   "cell_type": "markdown",
   "metadata": {},
   "source": [
    "$$\n",
    "L\\left(\\theta\\right) = \\theta.\n",
    "$$"
   ]
  },
  {
   "cell_type": "markdown",
   "metadata": {},
   "source": [
    "As the parameter $\\theta$ for the Bernoulli distribution has range $0 \\leq \\theta \\leq 1$ (as $\\theta$ represents a probability) then it is seen that"
   ]
  },
  {
   "cell_type": "markdown",
   "metadata": {},
   "source": [
    "$$\n",
    "\\int\\limits_{0}^{1}L\\left(\\theta\\right)\\,d\\theta = \\frac{1}{2}.\n",
    "$$"
   ]
  },
  {
   "cell_type": "code",
   "execution_count": 1,
   "metadata": {},
   "outputs": [],
   "source": [
    "import numpy as np\n",
    "import matplotlib.pyplot as plt"
   ]
  },
  {
   "cell_type": "code",
   "execution_count": 2,
   "metadata": {},
   "outputs": [
    {
     "data": {
      "image/png": "[encoded data removed]",
      "text/plain": [
       "<matplotlib.figure.Figure at 0x7f3cf2a949b0>"
      ]
     },
     "metadata": {},
     "output_type": "display_data"
    }
   ],
   "source": [
    "theta = np.linspace(0., 1., num=1000)\n",
    "likelihood = theta\n",
    "\n",
    "plt.plot(theta,likelihood)\n",
    "\n",
    "plt.xlabel(r'$\\theta$')\n",
    "plt.ylabel(r'$L\\left(\\theta | x\\right)$')\n",
    "plt.title(r'Scan in parameter ($\\theta$) space of $L\\left(\\theta | x=1\\right)$')\n",
    "\n",
    "plt.show();"
   ]
  },
  {
   "cell_type": "markdown",
   "metadata": {},
   "source": [
    "Each point on the above plot is a value of a probability density function given observed data $\\vec{x}$ given the parameter value at that point. The plot itself represents how the value of the probability density of the observed data would change given a scan over the possible parameter values."
   ]
  },
  {
   "cell_type": "markdown",
   "metadata": {},
   "source": [
    "### Example: The likelihood function for the mean of a Guassian"
   ]
  },
  {
   "cell_type": "markdown",
   "metadata": {},
   "source": [
    "The probability distribution function for the Gaussian is"
   ]
  },
  {
   "cell_type": "markdown",
   "metadata": {},
   "source": [
    "$$\n",
    "f\\left(\\vec{x} \\,\\big|\\, \\vec{\\theta}\\right) = f\\left(x \\,\\big|\\, \\mu, \\sigma\\right) = \\frac{1}{\\sqrt{2\\pi} \\sigma} e^{-\\left(x-\\mu\\right)/2\\sigma^2}\n",
    "$$"
   ]
  },
  {
   "cell_type": "markdown",
   "metadata": {},
   "source": [
    "and so the likelihood for data drawn from it is"
   ]
  },
  {
   "cell_type": "markdown",
   "metadata": {},
   "source": [
    "$$\n",
    "L\\left(\\vec{\\theta}\\right) = \\prod_{i=1}^{n}\\, f\\left(\\mu, \\sigma \\,\\big|\\, x_i\\right) = \\prod_{i=1}^{n}\\frac{1}{\\sqrt{2\\pi} \\sigma} e^{-\\left(x_i-\\mu\\right)/2\\sigma^2}.\n",
    "$$"
   ]
  },
  {
   "cell_type": "markdown",
   "metadata": {},
   "source": [
    "As this is simulated data (\"pseudodata\") it needs to be generated from a \"true\" distribution."
   ]
  },
  {
   "cell_type": "code",
   "execution_count": 3,
   "metadata": {},
   "outputs": [
    {
     "name": "stdout",
     "output_type": "stream",
     "text": [
      "true mean: 0.240\n",
      "true standard deviation: 0.649\n"
     ]
    }
   ],
   "source": [
    "# mean and standard deviation\n",
    "true_mu = np.random.uniform(-0.5,0.5)\n",
    "true_sigma = np.random.uniform(0.1,1.0)\n",
    "\n",
    "print('true mean: {:.3f}'.format(true_mu))\n",
    "print('true standard deviation: {:.3f}'.format(true_sigma))\n",
    "\n",
    "# sample the distribution\n",
    "n_samples = 100\n",
    "samples = np.random.normal(true_mu, true_sigma, n_samples)\n",
    "# samples.sort()"
   ]
  },
  {
   "cell_type": "code",
   "execution_count": 4,
   "metadata": {},
   "outputs": [],
   "source": [
    "def gaussian(x, mu, sigma):\n",
    "    return 1/(sigma * np.sqrt(2 * np.pi)) * np.exp(-(x - mu)**2 /(2 * sigma**2))\n",
    "\n",
    "def likelihood(data, parameters):\n",
    "    return np.prod(gaussian(data, parameters[0], parameters[1]))"
   ]
  },
  {
   "cell_type": "markdown",
   "metadata": {},
   "source": [
    "The parameter vector is two dimensional, $\\vec{\\theta} = \\left(\\mu, \\sigma\\right)$, but for the simple case consider fixing the standard deviation such that the likelihood function is a function of a single variable: $\\mu$."
   ]
  },
  {
   "cell_type": "code",
   "execution_count": 5,
   "metadata": {},
   "outputs": [
    {
     "data": {
      "image/png": "[encoded data removed]",
      "text/plain": [
       "<matplotlib.figure.Figure at 0x7f3cea0913c8>"
      ]
     },
     "metadata": {},
     "output_type": "display_data"
    }
   ],
   "source": [
    "mu = np.linspace(-1., 1., num=n_samples)\n",
    "sigma = np.repeat(true_sigma, n_samples)\n",
    "\n",
    "likelihood_ = np.asarray([likelihood(samples, [mean, sigma]) for mean in mu])\n",
    "idx_max_likelihood = np.argmax(likelihood_)\n",
    "\n",
    "\n",
    "fig, axes = plt.subplots(nrows=1, ncols=2, figsize=(14, 4.5))\n",
    "\n",
    "axes[0].plot(mu,likelihood_, label=r'$L\\left(\\mu | \\vec{x}\\right)$')\n",
    "axes[0].axvline(x=mu[idx_max_likelihood], color='black', linestyle='--',\n",
    "            label=r'$\\mu = {:.3f}$'.format(mu[idx_max_likelihood]))\n",
    "\n",
    "axes[0].set_xlabel(r'$\\mu$')\n",
    "axes[0].set_ylabel(r'$L\\left(\\mu | \\vec{x}\\right)$')\n",
    "axes[0].set_title('Scan of {0} points in '.format(n_samples) + r'$\\mu$ space of $L\\left(\\mu | \\vec{x}\\right)$')\n",
    "\n",
    "axes[0].legend(loc='best')\n",
    "\n",
    "# Repeat for log scale on y-axis\n",
    "axes[1].semilogy(mu,likelihood_, label=r'$L\\left(\\mu | \\vec{x}\\right)$')\n",
    "axes[1].axvline(x=mu[idx_max_likelihood], color='black', linestyle='--',\n",
    "            label=r'$\\mu = {:.3f}$'.format(mu[idx_max_likelihood]))\n",
    "axes[1].set_xlabel(r'$\\mu$')\n",
    "axes[1].set_ylabel(r'$L\\left(\\mu | \\vec{x}\\right)$')\n",
    "axes[1].set_title('Scan of {0} points in '.format(n_samples) + r'$\\mu$ space of $L\\left(\\mu | \\vec{x}\\right)$')\n",
    "\n",
    "axes[1].legend(loc='best')\n",
    "\n",
    "plt.show();"
   ]
  },
  {
   "cell_type": "markdown",
   "metadata": {},
   "source": [
    "To reiterate, this is a plot of a function in _parameter space_ **given** the observed data.\n",
    "\n",
    "Given the very distiguishing features of this plot, there is clear motivation to move onto discussions of maximum likelihood esitmators (MLE) in the accompanying notebooks."
   ]
  },
  {
   "cell_type": "markdown",
   "metadata": {},
   "source": [
    "## References"
   ]
  },
  {
   "cell_type": "markdown",
   "metadata": {},
   "source": [
    "- \\[1\\] K. Cranmer, \"[Practical Statistics for the LHC](https://inspirehep.net/record/1356277),\" arXiv:1503.07622 \\[hep-ex\\].\n",
    "- \\[2\\] [Cross Validated: What is the reason that a likelihood function is not a pdf?](https://stats.stackexchange.com/questions/31238/what-is-the-reason-that-a-likelihood-function-is-not-a-pdf)"
   ]
  }
 ],
 "metadata": {
  "kernelspec": {
   "display_name": "Python [conda root]",
   "language": "python",
   "name": "conda-root-py"
  },
  "language_info": {
   "codemirror_mode": {
    "name": "ipython",
    "version": 3
   },
   "file_extension": ".py",
   "mimetype": "text/x-python",
   "name": "python",
   "nbconvert_exporter": "python",
   "pygments_lexer": "ipython3",
   "version": "3.5.4"
  }
 },
 "nbformat": 4,
 "nbformat_minor": 2
}
