{
 "cells": [
  {
   "cell_type": "markdown",
   "metadata": {},
   "source": [
    "# The Likelihood Function"
   ]
  },
  {
   "cell_type": "markdown",
   "metadata": {},
   "source": [
    "The joint density of functions of data, $\\vec{x}$, and parameters, $\\vec{\\theta}$, is given by their product"
   ]
  },
  {
   "cell_type": "markdown",
   "metadata": {},
   "source": [
    "$$\n",
    "f\\left(\\vec{x}; \\vec{\\theta}\\right) = \\prod_{i=1}^{n}\\, f\\left(\\vec{x}_i; \\vec{\\theta}\\right).\n",
    "$$"
   ]
  },
  {
   "cell_type": "markdown",
   "metadata": {},
   "source": [
    "**Notational Aside:**\n",
    "\n",
    "The notation\n",
    "$\n",
    "f\\left(\\vec{x}\\,; \\vec{\\theta}\\right)\n",
    "$\n",
    "is meant to draw attention to the fact that the mulivariable function $f$ consists of both data and parameters, but that they are fundamentally different quantities. The use of \"$;$\" as the deimlinator\n",
    "$$\n",
    "f\\left(\\vec{x}\\,; \\vec{\\theta}\\right)\n",
    "$$\n",
    "is meant to indicate their difference, but not to imply conditional dependance as \"$|$\" does\n",
    "$$\n",
    "f\\left(\\vec{x}\\,\\big|\\, \\vec{\\theta}\\right).\n",
    "$$"
   ]
  },
  {
   "cell_type": "markdown",
   "metadata": {},
   "source": [
    "## Statistical Prediction"
   ]
  },
  {
   "cell_type": "markdown",
   "metadata": {},
   "source": [
    "If the functions are probability density functions (p.d.f.) then if the parameters, $\\vec{\\theta}$, are known, and so fixed, then the probability density to observe the data, $\\vec{x}$, is"
   ]
  },
  {
   "cell_type": "markdown",
   "metadata": {},
   "source": [
    "$$\n",
    "p\\left(\\vec{x}\\right) = p\\left(\\vec{x} \\,\\big|\\, \\vec{\\theta}\\right) = \\prod_{i=1}^{n}\\, f\\left(\\vec{x}_i \\,\\big|\\, \\vec{\\theta}\\right) = \\prod_{i=1}^{n}\\, f\\left(\\vec{x}_i; \\vec{\\theta}\\right).\n",
    "$$"
   ]
  },
  {
   "cell_type": "markdown",
   "metadata": {},
   "source": [
    "As $p\\left(\\vec{x} \\,\\big|\\, \\vec{\\theta}\\right)$ is a probability density function itself, then it is normalizable to unity"
   ]
  },
  {
   "cell_type": "markdown",
   "metadata": {},
   "source": [
    "$$\n",
    "\\int p\\left(\\vec{x}\\right)\\,d\\vec{x} = 1.\n",
    "$$"
   ]
  },
  {
   "cell_type": "markdown",
   "metadata": {},
   "source": [
    "## Statistical Inference"
   ]
  },
  {
   "cell_type": "markdown",
   "metadata": {},
   "source": [
    "If the data, $\\vec{x}$, have already been observed, and so are fixed, then the joint density is called the \"likelihood\". As the data are fixed then the likeilhood is a function of the parameters _**only**_"
   ]
  },
  {
   "cell_type": "markdown",
   "metadata": {},
   "source": [
    "$$\n",
    "L\\left(\\vec{\\theta}\\right) = L\\left(\\vec{\\theta} \\,\\big|\\, \\vec{x}\\right) = \\prod_{i=1}^{n}\\, f\\left(\\vec{\\theta} \\,\\big|\\, \\vec{x}_i\\right) = \\prod_{i=1}^{n}\\, f\\left(\\vec{x}_i; \\vec{\\theta}\\right).\n",
    "$$"
   ]
  },
  {
   "cell_type": "markdown",
   "metadata": {},
   "source": [
    "## Properties of the Likelihood"
   ]
  },
  {
   "cell_type": "markdown",
   "metadata": {},
   "source": [
    "As the likelihood is a function of the parameters only, then it is seen that it is **a density function of probability density functions given observed data**. \n",
    "\n",
    "The likelihood is **not** a probability density. This can most easily be realized by noting that as the likelihood is a function of the parameters only it has no contstraint that is normalized to unity. Indeed, it is not even required to be normalizable. \\[1\\]"
   ]
  },
  {
   "cell_type": "markdown",
   "metadata": {},
   "source": [
    "$$\n",
    "\\int L\\left(\\vec{\\theta}\\right)\\,d\\vec{\\theta} \\text{ need not be normalizable}.\n",
    "$$"
   ]
  },
  {
   "cell_type": "markdown",
   "metadata": {},
   "source": [
    "### Example: A single sample from the Bernoulli distribution \\[2\\]"
   ]
  },
  {
   "cell_type": "markdown",
   "metadata": {},
   "source": [
    "Given a single observation, $x$, from the Bernoulli distribution, with probability mass function (p.m.f) (which has $x \\in \\{0,1\\}$)"
   ]
  },
  {
   "cell_type": "markdown",
   "metadata": {},
   "source": [
    "$$\n",
    "\\displaystyle f_{\\text{Bernoulli}}\\left(x;\\theta\\right) = \\displaystyle \\theta^{x} \\left(1-\\theta\\right)^{1-x},\n",
    "$$"
   ]
  },
  {
   "cell_type": "markdown",
   "metadata": {},
   "source": [
    "sampling $x=1$ the likelihood is then"
   ]
  },
  {
   "cell_type": "markdown",
   "metadata": {},
   "source": [
    "$$\n",
    "L\\left(\\theta\\right) = \\theta.\n",
    "$$"
   ]
  },
  {
   "cell_type": "markdown",
   "metadata": {},
   "source": [
    "As the parameter $\\theta$ for the Bernoulli distribution has range $0 \\leq \\theta \\leq 1$ (as $\\theta$ represents a probability) then it is seen that"
   ]
  },
  {
   "cell_type": "markdown",
   "metadata": {},
   "source": [
    "$$\n",
    "\\int\\limits_{0}^{1}L\\left(\\theta\\right)\\,d\\theta = \\frac{1}{2}.\n",
    "$$"
   ]
  },
  {
   "cell_type": "code",
   "execution_count": 1,
   "metadata": {},
   "outputs": [],
   "source": [
    "import numpy as np\n",
    "import matplotlib.pyplot as plt"
   ]
  },
  {
   "cell_type": "code",
   "execution_count": 2,
   "metadata": {},
   "outputs": [
    {
     "data": {
      "image/png": "[encoded data removed]",
      "text/plain": [
       "<matplotlib.figure.Figure at 0x7f9df00b7978>"
      ]
     },
     "metadata": {},
     "output_type": "display_data"
    }
   ],
   "source": [
    "theta = np.linspace(0., 1., num=1000)\n",
    "likelihood = theta\n",
    "\n",
    "plt.plot(theta,likelihood)\n",
    "\n",
    "plt.xlabel(r'$\\theta$')\n",
    "plt.ylabel(r'$L\\left(\\theta | x\\right)$')\n",
    "plt.title(r'Scan in parameter ($\\theta$) space of $L\\left(\\theta | x=1\\right)$')\n",
    "\n",
    "plt.show();"
   ]
  },
  {
   "cell_type": "markdown",
   "metadata": {},
   "source": [
    "Each point on the above plot is a value of a probability density function given observed data $\\vec{x}$ given the parameter value at that point. The plot itself represents how the value of the probability density of the observed data would change given a scan over the possible parameter values."
   ]
  },
  {
   "cell_type": "markdown",
   "metadata": {},
   "source": [
    "## References"
   ]
  },
  {
   "cell_type": "markdown",
   "metadata": {},
   "source": [
    "- \\[1\\] K. Cranmer, \"[Practical Statistics for the LHC](https://inspirehep.net/record/1356277),\" arXiv:1503.07622 \\[hep-ex\\].\n",
    "- \\[2\\] [Cross Validated: What is the reason that a likelihood function is not a pdf?](https://stats.stackexchange.com/questions/31238/what-is-the-reason-that-a-likelihood-function-is-not-a-pdf)"
   ]
  }
 ],
 "metadata": {
  "kernelspec": {
   "display_name": "Python [conda root]",
   "language": "python",
   "name": "conda-root-py"
  },
  "language_info": {
   "codemirror_mode": {
    "name": "ipython",
    "version": 3
   },
   "file_extension": ".py",
   "mimetype": "text/x-python",
   "name": "python",
   "nbconvert_exporter": "python",
   "pygments_lexer": "ipython3",
   "version": "3.5.4"
  }
 },
 "nbformat": 4,
 "nbformat_minor": 2
}
