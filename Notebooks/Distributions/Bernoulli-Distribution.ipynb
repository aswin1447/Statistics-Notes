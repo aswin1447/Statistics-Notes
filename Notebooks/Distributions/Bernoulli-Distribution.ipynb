{
 "cells": [
  {
   "cell_type": "markdown",
   "metadata": {},
   "source": [
    "# Bernoulli Distribution"
   ]
  },
  {
   "cell_type": "markdown",
   "metadata": {},
   "source": [
    "The Bernoulli distribution is a discrete probability distribution of a random variable with binary outcomes parameterized by the probability of success, $p$. In the world such binary events that can be described by a Bernoulli process would be a coin flip (Heads or Tails), the state of a digital bit (1 or 0), or the spin of an electron (↑ or ↓)."
   ]
  },
  {
   "cell_type": "markdown",
   "metadata": {},
   "source": [
    "## Probability Distribution Function"
   ]
  },
  {
   "cell_type": "markdown",
   "metadata": {},
   "source": [
    "As the Bernoulli distribution is discrete its probability distribution function is a probability mass function parameterized by a single variable: $p$, the probability of success. For notational convenience though the compliment to $p$ is defined as $(1-p)=q$. Thus, for a binary random variable $k$, $k \\in \\left\\{0,1\\right\\}$, the Bernoulli p.m.f. is"
   ]
  },
  {
   "cell_type": "markdown",
   "metadata": {},
   "source": [
    "\\begin{split}\n",
    "f \\left(k \\middle|p\\right) &= \\left\\{\n",
    "\\begin{array}{ll}\n",
    "p, & k=1, \\\\\n",
    "q=1-p\\,, &k=0\n",
    "\\end{array}\n",
    "\\right.\\\\\n",
    "    &= p^{k} \\left(1-p\\right)^{1-k}\\,.\n",
    "\\end{split}"
   ]
  },
  {
   "cell_type": "markdown",
   "metadata": {},
   "source": [
    "Note that the Bernoulli p.m.f. is the special case of the Binomial p.m.f for $n$ = 1,"
   ]
  },
  {
   "cell_type": "markdown",
   "metadata": {},
   "source": [
    "$$\n",
    "\\textrm{Binomial} \\left(k\\middle|n=1, p\\right) = {1 \\choose 1} p^{k} (1-p)^{1-k} = \\textrm{Bernoulli} \\left(k\\middle| p\\right)\n",
    "$$"
   ]
  },
  {
   "cell_type": "markdown",
   "metadata": {},
   "source": [
    "## Mean"
   ]
  },
  {
   "cell_type": "markdown",
   "metadata": {},
   "source": [
    "The mean of the Bernoulli distribution is seen to be"
   ]
  },
  {
   "cell_type": "markdown",
   "metadata": {},
   "source": [
    "\\begin{split}\n",
    "\\mu &= \\mathrm{E}\\left[x\\right] = \\sum_{x=0}^{1} x\\, f \\left(x \\middle|p\\right) \\\\\n",
    "    &= 0 \\cdot (1-p) + p \\\\\n",
    "    &= p\\,.\n",
    "\\end{split}"
   ]
  },
  {
   "cell_type": "markdown",
   "metadata": {},
   "source": [
    "## Variance"
   ]
  },
  {
   "cell_type": "markdown",
   "metadata": {},
   "source": [
    "Likewise, the variance is"
   ]
  },
  {
   "cell_type": "markdown",
   "metadata": {},
   "source": [
    "\\begin{split}\n",
    "\\mathrm{Var}\\left[x\\right] &= \\mathrm{E}\\left[\\left(x - \\mathrm{E}\\left[x\\right]\\right)^2\\,\\right] = \\mathrm{E}\\left[x^{2}\\right] - \\mathrm{E}\\left[x\\right]^{2} \\\\\n",
    "    &= p - p^{2} \\\\\n",
    "    &= p \\left(1-p\\right) \\\\\n",
    "    &= pq\\,\n",
    "\\end{split}"
   ]
  },
  {
   "cell_type": "markdown",
   "metadata": {},
   "source": [
    "such that the standard deviation is"
   ]
  },
  {
   "cell_type": "markdown",
   "metadata": {},
   "source": [
    "$$\n",
    "\\sigma = \\sqrt{pq}\\,.\n",
    "$$"
   ]
  },
  {
   "cell_type": "markdown",
   "metadata": {},
   "source": [
    "As the random variable for the Bernoulli distribution, $k$, is _binary_ these moments of the distribution make an intuitive sense as $p$ and $q$ act as weights for two outcomes."
   ]
  },
  {
   "cell_type": "markdown",
   "metadata": {},
   "source": [
    "Given this information we now plot the Bernoulli p.m.f. with various parameter values of $p$ to visualize the distribution's behaviour"
   ]
  },
  {
   "cell_type": "code",
   "execution_count": 1,
   "metadata": {},
   "outputs": [],
   "source": [
    "import numpy as np\n",
    "from scipy.stats import bernoulli\n",
    "import matplotlib.pyplot as plt"
   ]
  },
  {
   "cell_type": "code",
   "execution_count": 2,
   "metadata": {
    "scrolled": true
   },
   "outputs": [
    {
     "data": {
      "image/png": "[encoded data removed]",
      "text/plain": [
       "<Figure size 432x288 with 1 Axes>"
      ]
     },
     "metadata": {
      "needs_background": "light"
     },
     "output_type": "display_data"
    }
   ],
   "source": [
    "# Plot the Bernoulli distribution\n",
    "fig, ax = plt.subplots(1, 1)\n",
    "\n",
    "x = (0,1)\n",
    "[ax.stem(x, bernoulli.pmf(x, p),\n",
    "         linefmt=f'{c}--', markerfmt=f'{c}o', basefmt=' ', label=r'$p = ${}'.format(p))\n",
    "         for p,c in zip([0.1, 0.3, 0.7],['b', 'g', 'y'])]\n",
    "    \n",
    "ax.set_xlabel(r'$k$')\n",
    "ax.set_xticks([0,1])\n",
    "plt.ylabel(r'$f\\left(k|p\\right)$')\n",
    "plt.title(r'Bernoulli distribution for various values of $p$')\n",
    "\n",
    "plt.legend(loc='upper center')\n",
    "\n",
    "plt.show();"
   ]
  },
  {
   "cell_type": "markdown",
   "metadata": {},
   "source": [
    "## Example"
   ]
  }
 ],
 "metadata": {
  "kernelspec": {
   "display_name": "Python 3",
   "language": "python",
   "name": "python3"
  },
  "language_info": {
   "codemirror_mode": {
    "name": "ipython",
    "version": 3
   },
   "file_extension": ".py",
   "mimetype": "text/x-python",
   "name": "python",
   "nbconvert_exporter": "python",
   "pygments_lexer": "ipython3",
   "version": "3.6.8"
  }
 },
 "nbformat": 4,
 "nbformat_minor": 2
}
