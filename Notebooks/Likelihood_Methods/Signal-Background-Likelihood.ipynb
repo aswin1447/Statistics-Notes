{
 "cells": [
  {
   "cell_type": "markdown",
   "metadata": {},
   "source": [
    "# Toy Signal + Background Likelihood with Marked Poisson Models"
   ]
  },
  {
   "cell_type": "markdown",
   "metadata": {},
   "source": [
    "Consider $n$ observed events and the hypothesis that there are both background and signal processes present in the events. For each event there is an observation of a property of the event, $x$, such that all collected data are given by $\\vec{x} = \\left\\{x_1, \\ldots, x_n\\right\\}$."
   ]
  },
  {
   "cell_type": "markdown",
   "metadata": {},
   "source": [
    "To model the behavior of this process, first consider the probability density to observed $n$ events. If we assume that this is a counting experiment, then this can be modeled by a Poisson distribution with $n$ observed events and the number of expected events is given by $N_{\\textrm{expected}} = \\mu N_{\\textrm{signal}} + N_{\\textrm{background}} \\equiv \\mu S + B$,"
   ]
  },
  {
   "cell_type": "markdown",
   "metadata": {},
   "source": [
    "$$\n",
    "f_{\\textrm{counting}} \\left(n\\right) = \\textrm{Pois}\\left(n\\,\\middle| \\,\\mu S + B\\right).\n",
    "$$"
   ]
  },
  {
   "cell_type": "markdown",
   "metadata": {},
   "source": [
    "Then consider the probability density that particular value of $x$ was observed for each event given the [mixture model](https://en.wikipedia.org/wiki/Mixture_distribution) composed of signal and background samples"
   ]
  },
  {
   "cell_type": "markdown",
   "metadata": {},
   "source": [
    "\\begin{align*}\n",
    "f\\left(x\\,\\middle|\\,\\mu\\right) &= \\frac{1}{\\nu_{\\textrm{total}}} \\sum_{s\\,\\in \\textrm{samples}} \\nu_{s}\\, f_{s}\\left(x\\,\\middle|\\,\\mu\\right)\\\\\n",
    "    &= \\frac{\\mu S \\,f_{S}\\left(x\\right) + B \\,f_{B}\\left(x\\right)}{\\mu S + B}\n",
    "\\end{align*}"
   ]
  },
  {
   "cell_type": "markdown",
   "metadata": {},
   "source": [
    "such that the joint density for all $n$ statistically independent events is"
   ]
  },
  {
   "cell_type": "markdown",
   "metadata": {},
   "source": [
    "$$\n",
    "\\prod_{i=1}^{n} f\\left(x_{i}\\,\\middle|\\,\\mu\\right) = \\prod_{i=1}^{n} \\frac{\\mu S \\,f_{S}\\left(x_{i}\\right) + B \\,f_{B}\\left(x_{i}\\right)}{\\mu S + B}\n",
    "$$"
   ]
  },
  {
   "cell_type": "markdown",
   "metadata": {},
   "source": [
    "Then the probability density function to have obseved the data is the joint density of having observed the number of events and these values of $x$,"
   ]
  },
  {
   "cell_type": "markdown",
   "metadata": {},
   "source": [
    "$$\n",
    "\\mathcal{P}\\left(\\vec{x}\\,\\middle|\\,\\mu\\right) = \\textrm{Pois}\\left(n\\,\\middle| \\,\\mu S + B\\right) \\prod_{i=1}^{n} \\frac{\\mu S \\,f_{S}\\left(x_{i}\\right) + B \\,f_{B}\\left(x_{i}\\right)}{\\mu S + B}\n",
    "$$"
   ]
  },
  {
   "cell_type": "markdown",
   "metadata": {},
   "source": [
    "or, in a more explicit and general notation,"
   ]
  },
  {
   "cell_type": "markdown",
   "metadata": {},
   "source": [
    "$$\n",
    "\\mathcal{P}\\left(\\vec{x}\\,\\middle|\\,\\mu\\right) = \\textrm{Pois}\\left(N_{\\textrm{observed}}\\,\\middle| \\,N_{\\textrm{expected}}\\right) \\prod_{i=1}^{N_{\\textrm{observed}}} \\frac{\\mu N_{S} \\,f_{S}\\left(x_{i}\\right) + N_{B}\\,f_{B}\\left(x_{i}\\right)}{N_{\\textrm{expected}}}.\n",
    "$$"
   ]
  },
  {
   "cell_type": "markdown",
   "metadata": {},
   "source": [
    "Taking the observed data, $\\vec{x}$, as fixed then the likelihood is seen to take the familiar form of an extended likelihood (for a [marked Poisson model](https://en.wikipedia.org/wiki/Poisson_point_process#Marked_Poisson_point_process))"
   ]
  },
  {
   "cell_type": "markdown",
   "metadata": {},
   "source": [
    "\\begin{align}\n",
    "L\\left(\\mu\\right) &= \\textrm{Pois}\\left(N_{\\textrm{observed}}\\,\\middle| \\,N_{\\textrm{expected}}\\right) \\prod_{i=1}^{N_{\\textrm{observed}}} \\frac{\\mu N_{S} \\,f_{S}\\left(x_{i}\\right) + N_{B}\\,f_{B}\\left(x_{i}\\right)}{N_{\\textrm{expected}}}\\\\\n",
    "    &= \\frac{\\left(N_{\\textrm{expected}}\\right)^{N_{\\textrm{observed}}} e^{-N_{\\textrm{expected}}}}{N_{\\textrm{observed}}!} \\prod_{i=1}^{N_{\\textrm{observed}}} \\frac{\\mu N_{S} \\,f_{S}\\left(x_{i}\\right) + N_{B}\\,f_{B}\\left(x_{i}\\right)}{N_{\\textrm{expected}}}\\notag\\\\\n",
    "    &= \\frac{e^{-N_{\\textrm{expected}}}}{N_{\\textrm{observed}}!} \\prod_{i=1}^{N_{\\textrm{observed}}} \\mu\\, N_{S} \\,f_{S}\\left(x_{i}\\right) + N_{B}\\,f_{B}\\left(x_{i}\\right)\\notag\n",
    "\\end{align}"
   ]
  },
  {
   "cell_type": "markdown",
   "metadata": {},
   "source": [
    "and so then the log likelihood is seen to be"
   ]
  },
  {
   "cell_type": "markdown",
   "metadata": {},
   "source": [
    "\\begin{align*}\n",
    "\\ln L\\left(\\mu\\right) &= \\ln\\left(\\frac{e^{-N_{\\textrm{expected}}}}{N_{\\textrm{observed}}!}\\right) + \\ln \\left(\\prod_{i=1}^{N_{\\textrm{observed}}} \\mu\\, N_{S} \\,f_{S}\\left(x_{i}\\right) + N_{B}\\,f_{B}\\left(x_{i}\\right)\\right) \\\\\n",
    "    &= - N_{\\textrm{expected}} - \\ln \\left(N_{\\textrm{observed}}!\\right) + \\sum_{i=1}^{N_{\\textrm{observed}}} \\ln\\left(\\,\\mu\\, N_{S} \\,f_{S}\\left(x_{i}\\right) + N_{B}\\,f_{B}\\left(x_{i}\\right)\\right)\\\\\n",
    "\\end{align*}"
   ]
  },
  {
   "cell_type": "markdown",
   "metadata": {},
   "source": [
    "Ignoring the constant of the data, $\\ln \\left(N_{\\textrm{observed}}!\\right)$, the negative log likelihood is then"
   ]
  },
  {
   "cell_type": "markdown",
   "metadata": {},
   "source": [
    "$$\n",
    "-\\ln L\\left(\\mu\\,;\\,N_{S}, \\vec{\\theta}_{S}, N_{B}, \\vec{\\theta}_{B}\\right) = N_{\\textrm{expected}} - \\sum_{i=1}^{N_{\\textrm{observed}}} \\ln\\left(\\mu\\, N_{S} \\,f_{S}\\left(x_{i}\\,\\middle|\\,\\vec{\\theta}_{S}\\right) + N_{B}\\,f_{B}\\left(x_{i}\\,\\middle|\\,\\vec{\\theta}_{B}\\right)\\right)\n",
    "$$"
   ]
  },
  {
   "cell_type": "markdown",
   "metadata": {},
   "source": [
    "which in the more typical notation of the field is"
   ]
  },
  {
   "cell_type": "markdown",
   "metadata": {},
   "source": [
    "$$\n",
    "-\\ln L\\left(\\mu\\right) = \\left(\\,\\mu S + B\\right) - \\sum_{i=1}^{n} \\ln\\left(\\,\\mu S \\,f_{S}\\left(x_{i}\\right) + B\\,f_{B}\\left(x_{i}\\right)\\right)\n",
    "$$"
   ]
  },
  {
   "cell_type": "markdown",
   "metadata": {},
   "source": [
    "## Binned Model"
   ]
  },
  {
   "cell_type": "markdown",
   "metadata": {},
   "source": [
    "$$\n",
    "f_{\\textrm{hist}}\\left(x_i\\right) \\to \\frac{\\nu_{\\textrm{bin}}^{\\textrm{hist}}\\left(x_i\\right)}{N^{\\textrm{hist}} \\Delta_{\\textrm{bin}}\\left(x_i\\right)}\n",
    "$$"
   ]
  },
  {
   "cell_type": "markdown",
   "metadata": {},
   "source": [
    "so negative log likelihood is then"
   ]
  },
  {
   "cell_type": "markdown",
   "metadata": {},
   "source": [
    "$$\n",
    "-\\ln L\\left(\\mu\\right) = \\left(\\,\\mu S + B\\right) - \\sum_{i=1}^{n} \\ln\\left(\\,\\mu \\frac{\\nu_{\\textrm{bin}}^{S}\\left(x_i\\right)}{\\Delta_{\\textrm{bin}}\\left(x_i\\right)} + \\frac{\\nu_{\\textrm{bin}}^{B}\\left(x_i\\right)}{\\Delta_{\\textrm{bin}}\\left(x_i\\right)}\\right)\n",
    "$$"
   ]
  }
 ],
 "metadata": {
  "kernelspec": {
   "display_name": "Python [default]",
   "language": "python",
   "name": "python3"
  },
  "language_info": {
   "codemirror_mode": {
    "name": "ipython",
    "version": 3
   },
   "file_extension": ".py",
   "mimetype": "text/x-python",
   "name": "python",
   "nbconvert_exporter": "python",
   "pygments_lexer": "ipython3",
   "version": "3.5.5"
  }
 },
 "nbformat": 4,
 "nbformat_minor": 2
}
