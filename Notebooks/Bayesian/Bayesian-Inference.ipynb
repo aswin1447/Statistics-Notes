{
 "cells": [
  {
   "cell_type": "markdown",
   "metadata": {},
   "source": [
    "# Bayesian Inference"
   ]
  },
  {
   "cell_type": "markdown",
   "metadata": {},
   "source": [
    "This notebooks details an approach to Bayesian inference that is motivated from focusing on the likelihood. It is improtant to note that \"inference\" means \"inference of model parameters given the observed data\"."
   ]
  },
  {
   "cell_type": "markdown",
   "metadata": {},
   "source": [
    "## Motivation"
   ]
  },
  {
   "cell_type": "markdown",
   "metadata": {},
   "source": [
    "### Prior"
   ]
  },
  {
   "cell_type": "markdown",
   "metadata": {},
   "source": [
    "In the world there may be some physical parameter of interest, $\\theta$, that you would like to estimate or measure but can not do so directly. For example, the parameter might be the mass of a subatomic particle, the time of transit, or INSERT A THIRD EXAMPLE LATER. Given experience of the world, or other knowledge that you may already have that constrains the value of $\\theta$, you can represent your belief of the value of $\\theta$ in a probability density function refered to as the _prior_, $p\\left(\\theta\\right)$."
   ]
  },
  {
   "cell_type": "markdown",
   "metadata": {},
   "source": [
    "In this example, to make the prior more notationally distinct it will be represented as $\\pi\\left(\\vec{\\theta}\\right)$. This additionally represents the fact that the prior may exist for multiple parameters of interest, $\\vec{\\theta}$."
   ]
  },
  {
   "cell_type": "markdown",
   "metadata": {},
   "source": [
    "### Model and Likelihood"
   ]
  },
  {
   "cell_type": "markdown",
   "metadata": {},
   "source": [
    "It might not be possible to directly observe $\\vec{\\theta}$, but observations can be made that can be influence by the value of the paramter. These observations are data, $\\vec{x}$, and their nature and dependence on the paramter can be modeled and formalized through a p.d.f. $p\\left(\\vec{x} \\,\\middle|\\,\\vec{\\theta}\\right)$."
   ]
  },
  {
   "cell_type": "markdown",
   "metadata": {},
   "source": [
    "From this model, $p$, and the observed data, $\\vec{x}$, the likelihood function for the paramter values can then be constructed.\n",
    "\n",
    "$$\n",
    "L\\left(\\vec{\\theta}\\right) = L\\left(\\vec{\\theta}\\,\\middle|\\,\\vec{x}\\right)\n",
    "$$\n",
    "\n",
    "It is worth reiterating that the likelihood is a function of the model parameters only and so exists in parameter space, and it is not a p.d.f. and so under no requirement to be normalized to unity."
   ]
  },
  {
   "cell_type": "markdown",
   "metadata": {},
   "source": [
    "It is then natural, given that the likelihood encodes the comaptibility of possible paramter values with the observed data, to use this information to improve our beliefs for $\\theta$ &mdash; to update our prior, $\\pi\\left(\\vec{\\theta}\\right)$. This information should be formalized as a new p.d.f., $p\\left(\\vec{\\theta}\\, \\middle|\\,\\vec{x}\\right)$, referred to as the _posterior_ that is determined through a combination of the likelihood and the prior.\n",
    "\n",
    "**Have two different distributions, so what it the motivation to multiply them as opposed to doing something else? Motivate this**"
   ]
  },
  {
   "cell_type": "markdown",
   "metadata": {},
   "source": [
    "Noting that the likelihood function is a scalar and so its value can also be arrived at as a constant multiplying the model\n",
    "\n",
    "$$\n",
    "L\\left(\\vec{\\theta}\\,\\middle|\\,\\vec{x}\\right) = k \\cdot p\\left(\\vec{x}\\,\\middle|\\,\\vec{\\theta}\\right)\n",
    "$$"
   ]
  },
  {
   "cell_type": "markdown",
   "metadata": {},
   "source": [
    "### Application of Bayes' Theorem"
   ]
  },
  {
   "cell_type": "markdown",
   "metadata": {},
   "source": [
    "### BELOW IS UNORDED"
   ]
  },
  {
   "cell_type": "markdown",
   "metadata": {},
   "source": [
    "As a p.d.f. is desired, then it makes sense to normalize the joint distribution by marginalizing it over all of paramter space"
   ]
  },
  {
   "cell_type": "markdown",
   "metadata": {},
   "source": [
    "$$\n",
    "\\frac{L\\left(\\vec{\\theta}\\,\\middle|\\,\\vec{x}\\right) \\pi\\left(\\vec{\\theta}\\right)}{\\displaystyle \\int_{\\theta} L\\left(\\vec{\\theta}\\,\\middle|\\,\\vec{x}\\right) \\pi\\left(\\vec{\\theta}\\right)\\,d\\vec{\\theta}}\n",
    "$$"
   ]
  },
  {
   "cell_type": "markdown",
   "metadata": {},
   "source": [
    "Noting that the likelihood function is a scalar and so its value can also be arrived at as a constant multiplying the model\n",
    "\n",
    "$$\n",
    "L\\left(\\vec{\\theta}\\,\\middle|\\,\\vec{x}\\right) = k \\cdot p\\left(\\vec{x}\\,\\middle|\\,\\vec{\\theta}\\right)\n",
    "$$"
   ]
  },
  {
   "cell_type": "markdown",
   "metadata": {},
   "source": [
    "it is seen that"
   ]
  },
  {
   "cell_type": "markdown",
   "metadata": {},
   "source": [
    "\\begin{split}\n",
    "\\frac{L\\left(\\vec{\\theta}\\,\\middle|\\,\\vec{x}\\right) \\pi\\left(\\vec{\\theta}\\right)}{\\displaystyle \\int_{\\theta} L\\left(\\vec{\\theta}\\,\\middle|\\,\\vec{x}\\right) \\pi\\left(\\vec{\\theta}\\right)\\,d\\vec{\\theta}} &= \\frac{p\\left(\\vec{x}\\,\\middle|\\,\\vec{\\theta}\\right) \\pi\\left(\\vec{\\theta}\\right)}{\\displaystyle \\int_{\\theta} p\\left(\\vec{x}\\,\\middle|\\,\\vec{\\theta}\\right) \\pi\\left(\\vec{\\theta}\\right)\\,d\\vec{\\theta}} \\\\\n",
    "    &= \\frac{p\\left(\\vec{x}\\,\\middle|\\,\\vec{\\theta}\\right) \\pi\\left(\\vec{\\theta}\\right)}{\\displaystyle p\\left(\\vec{x}\\right)}\n",
    "\\end{split}"
   ]
  },
  {
   "cell_type": "markdown",
   "metadata": {},
   "source": [
    "It is then seen by Bayes' Theorem &mdash; a fact of probability that follows directly from the Kolmogorov probability axioms &mdash;\n",
    "\n",
    "$$\n",
    "p\\left(A \\middle| B\\right) p\\left(B\\right) = p\\left(B \\middle| A\\right) p\\left(A\\right)\n",
    "$$\n",
    "\n",
    "that the _posterior_ is given by"
   ]
  },
  {
   "cell_type": "markdown",
   "metadata": {},
   "source": [
    "$$\n",
    "\\boxed{p\\left(\\vec{\\theta}\\, \\middle|\\,\\vec{x}\\right) = \\frac{p\\left(\\vec{x}\\,\\middle|\\,\\vec{\\theta}\\right) \\pi\\left(\\vec{\\theta}\\right)}{p\\left(\\vec{x}\\right)}}\\,.\n",
    "$$"
   ]
  },
  {
   "cell_type": "markdown",
   "metadata": {},
   "source": [
    "Noting that as the data are already observed and are so **fixed** then the total probability of the data, referred to as the _evidence_, $p\\left(x\\right)$ is a constant for those data. So it can then be said that the _posterior_ is proportial to the _likelihood_ times the _prior_"
   ]
  },
  {
   "cell_type": "markdown",
   "metadata": {},
   "source": [
    "$$\n",
    "\\boxed{p\\left(\\vec{\\theta}\\, \\middle|\\,\\vec{x}\\right) \\propto L\\left(\\vec{\\theta}\\,\\middle|\\,\\vec{x}\\right) \\pi\\left(\\vec{\\theta}\\right)}\\,.\n",
    "$$"
   ]
  }
 ],
 "metadata": {
  "kernelspec": {
   "display_name": "Python 3",
   "language": "python",
   "name": "python3"
  },
  "language_info": {
   "codemirror_mode": {
    "name": "ipython",
    "version": 3
   },
   "file_extension": ".py",
   "mimetype": "text/x-python",
   "name": "python",
   "nbconvert_exporter": "python",
   "pygments_lexer": "ipython3",
   "version": "3.6.8"
  }
 },
 "nbformat": 4,
 "nbformat_minor": 2
}
