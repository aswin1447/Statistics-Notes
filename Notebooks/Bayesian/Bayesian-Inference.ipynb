{
 "cells": [
  {
   "cell_type": "markdown",
   "metadata": {},
   "source": [
    "# Bayesian Inference"
   ]
  },
  {
   "cell_type": "markdown",
   "metadata": {},
   "source": [
    "This notebooks details an approach to Bayesian inference that is motivated from focusing on the likelihood. It is improtant to note that \"inference\" means \"inference of model parameters given the observed data\"."
   ]
  },
  {
   "cell_type": "markdown",
   "metadata": {},
   "source": [
    "## Motivation"
   ]
  },
  {
   "cell_type": "markdown",
   "metadata": {},
   "source": [
    "### Prior"
   ]
  },
  {
   "cell_type": "markdown",
   "metadata": {},
   "source": [
    "In the world there may be some physical parameter of interest, $\\theta$, that you would like to estimate or measure but can not do so directly. For example, the parameter might be the mass of a subatomic particle, the time of transit, or INSERT A THIRD EXAMPLE LATER. Given experience of the world, or other knowledge that you may already have that constrains the value of $\\theta$, you can represent your belief of the value of $\\theta$ in a probability density function referred to as the _prior_, $p\\left(\\theta\\right)$."
   ]
  },
  {
   "cell_type": "markdown",
   "metadata": {},
   "source": [
    "In this example, to make the prior more notationally distinct it will be represented as $\\pi\\left(\\vec{\\theta}\\right)$. This additionally represents the fact that the prior may exist for multiple parameters of interest, $\\vec{\\theta}$."
   ]
  },
  {
   "cell_type": "markdown",
   "metadata": {},
   "source": [
    "### Model and Likelihood"
   ]
  },
  {
   "cell_type": "markdown",
   "metadata": {},
   "source": [
    "It might not be possible to directly observe $\\vec{\\theta}$, but observations can be made that can be influenced by the value of the paramter. These observations are data, $\\vec{x}$, and their nature and dependence on the paramter can be modeled and formalized in a p.d.f. $p\\left(\\vec{x} \\,\\middle|\\,\\vec{\\theta}\\right)$."
   ]
  },
  {
   "cell_type": "markdown",
   "metadata": {},
   "source": [
    "From this model, $p$, and the observed data, $\\vec{x}$, the likelihood function for the paramter values can then be constructed."
   ]
  },
  {
   "cell_type": "markdown",
   "metadata": {},
   "source": [
    "$$\n",
    "L\\left(\\vec{\\theta}\\right) = L\\left(\\vec{\\theta}\\,\\middle|\\,\\vec{x}\\right)\n",
    "$$"
   ]
  },
  {
   "cell_type": "markdown",
   "metadata": {},
   "source": [
    "It is worth reiterating that the likelihood is a function of the model parameters only and so exists in parameter space, and it is not a p.d.f. and so under no requirement to be normalized to unity."
   ]
  },
  {
   "cell_type": "markdown",
   "metadata": {},
   "source": [
    "It is then natural, given that the likelihood encodes the comaptibility of possible paramter values with the observed data, to use this information to improve our beliefs for $\\theta$ &mdash; to update the prior, $\\pi\\left(\\vec{\\theta}\\right)$. Our degree of belief should still be formalized in a p.d.f., which means that the likelihood function acts as weights for all the values of parameter space"
   ]
  },
  {
   "cell_type": "markdown",
   "metadata": {},
   "source": [
    "$$\n",
    "\\underbrace{L\\left(\\vec{\\theta}\\,\\middle|\\,\\vec{x}\\right)}_{\\textrm{weights each }\\theta} \\pi\\left(\\vec{\\theta}\\right)\n",
    "$$"
   ]
  },
  {
   "cell_type": "markdown",
   "metadata": {},
   "source": [
    "To formalize this new weighted form it must be normalized over paramter space by dividing by the [marginalized likelihood](https://en.wikipedia.org/wiki/Marginal_likelihood) with respect to the partameter of interest"
   ]
  },
  {
   "cell_type": "markdown",
   "metadata": {},
   "source": [
    "$$\n",
    "\\frac{L\\left(\\vec{\\theta}\\,\\middle|\\,\\vec{x}\\right) \\pi\\left(\\vec{\\theta}\\right)}{\\displaystyle \\int_{\\vec{\\theta}} L\\left(\\vec{\\theta}\\,\\middle|\\,\\vec{x}\\right) \\pi\\left(\\vec{\\theta}\\right)\\,d\\vec{\\theta}}\n",
    "$$"
   ]
  },
  {
   "cell_type": "markdown",
   "metadata": {},
   "source": [
    "Noting that the likelihood function for $\\theta$ is _proportional to_ the the model _given that value_ of $\\theta$, then its value can be determined by multiplying the model by a positive multiplicitive _constant of the observed data_"
   ]
  },
  {
   "cell_type": "markdown",
   "metadata": {},
   "source": [
    "$$\n",
    "L\\left(\\vec{\\theta}\\,\\middle|\\,\\vec{x}\\right) = k \\cdot p\\left(\\vec{x}\\,\\middle|\\,\\vec{\\theta}\\right)\n",
    "$$"
   ]
  },
  {
   "cell_type": "markdown",
   "metadata": {},
   "source": [
    "and so it is seen that"
   ]
  },
  {
   "cell_type": "markdown",
   "metadata": {},
   "source": [
    "\\begin{split}\n",
    "\\frac{L\\left(\\vec{\\theta}\\,\\middle|\\,\\vec{x}\\right) \\pi\\left(\\vec{\\theta}\\right)}{\\displaystyle \\int_{\\vec{\\theta}} L\\left(\\vec{\\theta}\\,\\middle|\\,\\vec{x}\\right) \\pi\\left(\\vec{\\theta}\\right)\\,d\\vec{\\theta}} &= \\frac{p\\left(\\vec{x}\\,\\middle|\\,\\vec{\\theta}\\right) \\pi\\left(\\vec{\\theta}\\right)}{\\displaystyle \\int_{\\vec{\\theta}} p\\left(\\vec{x}\\,\\middle|\\,\\vec{\\theta}\\right) \\pi\\left(\\vec{\\theta}\\right)\\,d\\vec{\\theta}} \\\\\n",
    "    &= \\frac{p\\left(\\vec{x}\\,\\middle|\\,\\vec{\\theta}\\right) \\pi\\left(\\vec{\\theta}\\right)}{\\displaystyle p\\left(\\vec{x}\\right)}\n",
    "\\end{split}"
   ]
  },
  {
   "cell_type": "markdown",
   "metadata": {},
   "source": [
    "### Application of Bayes' Theorem and Posterior"
   ]
  },
  {
   "cell_type": "markdown",
   "metadata": {},
   "source": [
    "It is then seen by Bayes' Theorem"
   ]
  },
  {
   "cell_type": "markdown",
   "metadata": {},
   "source": [
    "$$\n",
    "p\\left(A \\middle| B\\right) p\\left(B\\right) = p\\left(B \\middle| A\\right) p\\left(A\\right)\n",
    "$$"
   ]
  },
  {
   "cell_type": "markdown",
   "metadata": {},
   "source": [
    "&mdash; a result that follows directly from the Kolmogorov probability axioms &mdash; that the new p.d.f. for $\\vec{\\theta}$, $p\\left(\\vec{\\theta}\\, \\middle|\\,\\vec{x}\\right)$, referred to as the _posterior_ is given by"
   ]
  },
  {
   "cell_type": "markdown",
   "metadata": {},
   "source": [
    "$$\n",
    "\\boxed{p\\left(\\vec{\\theta}\\, \\middle|\\,\\vec{x}\\right) = \\frac{p\\left(\\vec{x}\\,\\middle|\\,\\vec{\\theta}\\right) \\pi\\left(\\vec{\\theta}\\right)}{p\\left(\\vec{x}\\right)}}\\,.\n",
    "$$"
   ]
  },
  {
   "cell_type": "markdown",
   "metadata": {},
   "source": [
    "This is a powerful result as it formalizes how the observed data informs the description of the distribution of the paramter of interest in parameter space."
   ]
  },
  {
   "cell_type": "markdown",
   "metadata": {},
   "source": [
    "Noting that as the data are already observed and so are fixed then the total probability of the data,"
   ]
  },
  {
   "cell_type": "markdown",
   "metadata": {},
   "source": [
    "$$\n",
    "p\\left(\\vec{x}\\right) = \\int_{\\vec{\\theta}} p\\left(\\vec{x}\\,\\middle|\\,\\vec{\\theta}\\right) \\pi\\left(\\vec{\\theta}\\right)\\,d\\vec{\\theta}\\,,\n",
    "$$"
   ]
  },
  {
   "cell_type": "markdown",
   "metadata": {},
   "source": [
    "referred to as the _evidence_, is a constant for those data. So it can be seen that the _posterior_ is proportial to the _likelihood_ times the _prior_"
   ]
  },
  {
   "cell_type": "markdown",
   "metadata": {},
   "source": [
    "$$\n",
    "\\boxed{p\\left(\\vec{\\theta}\\, \\middle|\\,\\vec{x}\\right) \\propto L\\left(\\vec{\\theta}\\,\\middle|\\,\\vec{x}\\right) \\pi\\left(\\vec{\\theta}\\right)}\\,.\n",
    "$$"
   ]
  },
  {
   "cell_type": "markdown",
   "metadata": {},
   "source": [
    "## Example"
   ]
  },
  {
   "cell_type": "code",
   "execution_count": 1,
   "metadata": {},
   "outputs": [],
   "source": [
    "import numpy as np\n",
    "from scipy import stats as stats\n",
    "import matplotlib.pyplot as plt"
   ]
  },
  {
   "cell_type": "markdown",
   "metadata": {},
   "source": [
    "Consider an unknown coupling strength, $\\theta$. Given prior knowledge the value of $\\theta$ is believed to be near $0.7$ and evidence supports that it is less than $1.3$. From this information one can formalize this belief in a Normal prior with mean of $0.7$ and standard deviation of $0.2$"
   ]
  },
  {
   "cell_type": "markdown",
   "metadata": {},
   "source": [
    "$$\n",
    "\\theta \\sim N\\left(\\mu=0.7, \\sigma = 0.2\\right)\n",
    "$$"
   ]
  },
  {
   "cell_type": "code",
   "execution_count": 2,
   "metadata": {},
   "outputs": [],
   "source": [
    "def prior(theta):\n",
    "    return stats.norm(loc=0.7, scale=0.2).pdf(theta)"
   ]
  },
  {
   "cell_type": "code",
   "execution_count": 3,
   "metadata": {},
   "outputs": [],
   "source": [
    "def plot_prior():\n",
    "  pass  "
   ]
  }
 ],
 "metadata": {
  "kernelspec": {
   "display_name": "Python 3",
   "language": "python",
   "name": "python3"
  },
  "language_info": {
   "codemirror_mode": {
    "name": "ipython",
    "version": 3
   },
   "file_extension": ".py",
   "mimetype": "text/x-python",
   "name": "python",
   "nbconvert_exporter": "python",
   "pygments_lexer": "ipython3",
   "version": "3.6.8"
  }
 },
 "nbformat": 4,
 "nbformat_minor": 2
}
