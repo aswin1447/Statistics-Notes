{
 "cells": [
  {
   "cell_type": "markdown",
   "metadata": {},
   "source": [
    "# Rejection Sampling"
   ]
  },
  {
   "cell_type": "markdown",
   "metadata": {},
   "source": [
    "Rejection sampling, or \"accept-reject Monte Carlo\" is a Monte Carlo method used to generate obsrvations from distributions. As it is a Monte Carlo it can also be used for numerical integration."
   ]
  },
  {
   "cell_type": "markdown",
   "metadata": {},
   "source": [
    "## Example: Approximation of $\\pi$"
   ]
  },
  {
   "cell_type": "markdown",
   "metadata": {},
   "source": [
    "Enclose a circle of radius $1$ in a square of side length $2$. Then uniformly sample points inside the bounds of the square in Cartesian coordinates. If the point lies inside the circle record this information. At the ends of many throws the ratio of points inside the circle to all points thrown will approximate the ratio of the area of the cricle to the area of the square"
   ]
  },
  {
   "cell_type": "markdown",
   "metadata": {},
   "source": [
    "$$\n",
    "\\frac{\\text{points inside circle}}{\\text{all points thrown}} \\approx \\frac{\\text{area of circle}}{\\text{area of square}} = \\frac{\\pi r^2}{l^2},\n",
    "$$"
   ]
  },
  {
   "cell_type": "markdown",
   "metadata": {},
   "source": [
    "thus, an approximation of $\\pi$ can be found to be"
   ]
  },
  {
   "cell_type": "markdown",
   "metadata": {},
   "source": [
    "$$\n",
    "\\pi \\approx \\frac{l^2}{r^2} \\cdot \\frac{\\text{points inside circle}}{\\text{all points thrown}}.\n",
    "$$"
   ]
  },
  {
   "cell_type": "code",
   "execution_count": 1,
   "metadata": {},
   "outputs": [],
   "source": [
    "import numpy as np\n",
    "import matplotlib as plt"
   ]
  },
  {
   "cell_type": "code",
   "execution_count": 2,
   "metadata": {},
   "outputs": [],
   "source": [
    "def approximate_pi(n_throws=1000):\n",
    "    radius = 1\n",
    "    side_length = 2\n",
    "    \n",
    "    n_circle_points = 0\n",
    "\n",
    "    x_coord = np.random.uniform(-1, 1, n_throws)\n",
    "    y_coord = np.random.uniform(-1, 1, n_throws)\n",
    "\n",
    "    for x,y in zip(x_coord, y_coord):\n",
    "        radius = np.sqrt(x**2 + y**2)\n",
    "        if radius <=1:\n",
    "            n_circle_points += 1\n",
    "    \n",
    "    approx_pi = (n_circle_points / n_throws) * side_length**2\n",
    "    print('The approximation of pi after {} throws is: {}'.format(n_throws, approx_pi))"
   ]
  },
  {
   "cell_type": "code",
   "execution_count": 3,
   "metadata": {},
   "outputs": [
    {
     "name": "stdout",
     "output_type": "stream",
     "text": [
      "The approximation of pi after 1000 throws is: 3.128\n"
     ]
    }
   ],
   "source": [
    "approximate_pi()"
   ]
  }
 ],
 "metadata": {
  "kernelspec": {
   "display_name": "Python [conda root]",
   "language": "python",
   "name": "conda-root-py"
  },
  "language_info": {
   "codemirror_mode": {
    "name": "ipython",
    "version": 3
   },
   "file_extension": ".py",
   "mimetype": "text/x-python",
   "name": "python",
   "nbconvert_exporter": "python",
   "pygments_lexer": "ipython3",
   "version": "3.5.4"
  }
 },
 "nbformat": 4,
 "nbformat_minor": 2
}
